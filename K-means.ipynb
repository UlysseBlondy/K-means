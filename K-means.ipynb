{
 "cells": [
  {
   "cell_type": "code",
   "execution_count": 97,
   "id": "46005f4f",
   "metadata": {},
   "outputs": [],
   "source": [
    "import numpy as np\n",
    "import random\n",
    "import matplotlib.pyplot as plt"
   ]
  },
  {
   "cell_type": "code",
   "execution_count": 100,
   "id": "fc910f0b",
   "metadata": {},
   "outputs": [],
   "source": [
    "def kmeans(dataset, n_clusters, max_iter=10, random_state=None):\n",
    "    #rng = np.random.default_rng(random_state)\n",
    "\n",
    "    centroids = initialize_centroids(dataset, n_clusters)\n",
    "\n",
    "    points = attibuate_points_to_centroids(dataset, centroids)\n",
    "\n",
    "    # Perform k-means clustering\n",
    "    for itera in range(max_iter):\n",
    "        old_centroids = centroids\n",
    "        centroids = update_centroids(dataset, points, n_clusters)\n",
    "        new_points = attibuate_points_to_centroids(dataset, centroids)\n",
    "        if np.all(new_points == points):\n",
    "            break\n",
    "        points = new_points\n",
    "\n",
    "    return centroids, points\n",
    "\n",
    "def euclidean_distance(point1, point2):\n",
    "    return np.sqrt(np.sum((point1 - point2) ** 2))\n",
    "\n",
    "\n",
    "def initialize_centroids(dataset, n_clusters, random_state=None):\n",
    "    centro = np.random.choice(dataset.shape[0], n_clusters, replace=False)\n",
    "    centroids = dataset[centro]\n",
    "    return centroids\n",
    "\n",
    "def attibuate_points_to_centroids(dataset, centroids):\n",
    "    rows, cols = dataset.shape\n",
    "    n_clusters = centroids.shape[0]\n",
    "    points = np.zeros(rows, dtype=int)\n",
    "    for i in range(rows):\n",
    "        min_distance = np.inf\n",
    "        for j in range(n_clusters):\n",
    "            distance = euclidean_distance(dataset[i], centroids[j])\n",
    "            if distance < min_distance:\n",
    "                min_distance = distance\n",
    "                points[i] = j\n",
    "    return points\n",
    "\n",
    "def update_centroids(dataset, points, n_clusters):\n",
    "    rows = dataset.shape[0]\n",
    "    centroids = np.zeros((n_clusters, rows // n_clusters))\n",
    "    for i in range(n_clusters):\n",
    "        cluster = dataset[points == i]\n",
    "        if len(cluster) > 0:\n",
    "            centroids[i] = np.mean(cluster, axis=0)\n",
    "    return centroids\n"
   ]
  },
  {
   "cell_type": "code",
   "execution_count": 101,
   "id": "85fe7b7e",
   "metadata": {},
   "outputs": [
    {
     "data": {
      "text/plain": [
       "array([[0.76416062, 0.49663207, 0.52870902],\n",
       "       [0.56589246, 0.93741225, 0.40736911],\n",
       "       [0.42997771, 0.12461927, 0.23443441],\n",
       "       [0.79521398, 0.46641186, 0.31275612],\n",
       "       [0.87107813, 0.21820127, 0.22517548],\n",
       "       [0.53907246, 0.1619672 , 0.84770008],\n",
       "       [0.43844749, 0.35810615, 0.820568  ],\n",
       "       [0.0297885 , 0.41988804, 0.59923397],\n",
       "       [0.70115391, 0.78967767, 0.54066681],\n",
       "       [0.29225677, 0.58867269, 0.41636343]])"
      ]
     },
     "execution_count": 101,
     "metadata": {},
     "output_type": "execute_result"
    }
   ],
   "source": [
    "dataset = np.random.rand(10, 3)\n",
    "dataset"
   ]
  },
  {
   "cell_type": "code",
   "execution_count": 109,
   "id": "5121309d",
   "metadata": {},
   "outputs": [],
   "source": [
    "model = kmeans(dataset, n_clusters = 3, max_iter=10)"
   ]
  },
  {
   "cell_type": "code",
   "execution_count": 110,
   "id": "9058071e",
   "metadata": {},
   "outputs": [
    {
     "data": {
      "text/plain": [
       "(array([[0.48875997, 0.26003668, 0.83413404],\n",
       "        [0.39727291, 0.68391266, 0.49090833],\n",
       "        [0.71510761, 0.32646612, 0.32526876]]),\n",
       " array([2, 1, 2, 2, 2, 0, 0, 1, 1, 1]))"
      ]
     },
     "execution_count": 110,
     "metadata": {},
     "output_type": "execute_result"
    }
   ],
   "source": [
    "model"
   ]
  },
  {
   "cell_type": "code",
   "execution_count": 112,
   "id": "f2fce2c6",
   "metadata": {},
   "outputs": [
    {
     "data": {
      "image/png": "[encoded data removed]",
      "text/plain": [
       "<Figure size 640x480 with 1 Axes>"
      ]
     },
     "metadata": {},
     "output_type": "display_data"
    }
   ],
   "source": [
    "#dataset = np.random.rand(10, 3)\n",
    "#dataset = np.array(random_array)\n",
    "centroids, points = kmeans(dataset, n_clusters = 3, max_iter=10)\n",
    "\n",
    "# Print les points et centroids\n",
    "#print(\"Cluster points:\", points)\n",
    "#print(\"Cluster centroids:\", centroids)\n",
    "\n",
    "# afficher les points et les centroids\n",
    "plt.scatter(dataset[:, 0], dataset[:, 1], c=points, cmap=\"viridis\")\n",
    "plt.scatter(centroids[:, 0], centroids[:, 1], c=\"red\", s=200)\n",
    "plt.show()"
   ]
  },
  {
   "cell_type": "code",
   "execution_count": null,
   "id": "2baa3004",
   "metadata": {},
   "outputs": [],
   "source": []
  }
 ],
 "metadata": {
  "kernelspec": {
   "display_name": "Python 3 (ipykernel)",
   "language": "python",
   "name": "python3"
  },
  "language_info": {
   "codemirror_mode": {
    "name": "ipython",
    "version": 3
   },
   "file_extension": ".py",
   "mimetype": "text/x-python",
   "name": "python",
   "nbconvert_exporter": "python",
   "pygments_lexer": "ipython3",
   "version": "3.11.5"
  }
 },
 "nbformat": 4,
 "nbformat_minor": 5
}
